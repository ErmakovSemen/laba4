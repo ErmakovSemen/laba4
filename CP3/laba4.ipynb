{
 "cells": [
  {
   "cell_type": "code",
   "execution_count": 1,
   "metadata": {},
   "outputs": [
    {
     "name": "stdout",
     "output_type": "stream",
     "text": [
      "Requirement already satisfied: numba in /usr/local/lib/python3.11/site-packages (0.59.0)\n",
      "Requirement already satisfied: llvmlite<0.43,>=0.42.0dev0 in /usr/local/lib/python3.11/site-packages (from numba) (0.42.0)\n",
      "Requirement already satisfied: numpy<1.27,>=1.22 in /usr/local/lib/python3.11/site-packages (from numba) (1.25.2)\n",
      "\n",
      "\u001b[1m[\u001b[0m\u001b[34;49mnotice\u001b[0m\u001b[1;39;49m]\u001b[0m\u001b[39;49m A new release of pip is available: \u001b[0m\u001b[31;49m23.3.2\u001b[0m\u001b[39;49m -> \u001b[0m\u001b[32;49m24.0\u001b[0m\n",
      "\u001b[1m[\u001b[0m\u001b[34;49mnotice\u001b[0m\u001b[1;39;49m]\u001b[0m\u001b[39;49m To update, run: \u001b[0m\u001b[32;49m/usr/local/opt/python@3.11/bin/python3.11 -m pip install --upgrade pip\u001b[0m\n"
     ]
    }
   ],
   "source": [
    "# !pip install numba vispy\n",
    "!pip install numba\n",
    "# import numba"
   ]
  },
  {
   "cell_type": "code",
   "execution_count": 2,
   "metadata": {},
   "outputs": [
    {
     "ename": "ModuleNotFoundError",
     "evalue": "No module named 'numba'",
     "output_type": "error",
     "traceback": [
      "\u001b[0;31m---------------------------------------------------------------------------\u001b[0m",
      "\u001b[0;31mModuleNotFoundError\u001b[0m                       Traceback (most recent call last)",
      "Cell \u001b[0;32mIn[2], line 1\u001b[0m\n\u001b[0;32m----> 1\u001b[0m \u001b[38;5;28;01mfrom\u001b[39;00m \u001b[38;5;21;01mnumba\u001b[39;00m \u001b[38;5;28;01mimport\u001b[39;00m njit\n\u001b[1;32m      2\u001b[0m \u001b[38;5;28;01mimport\u001b[39;00m \u001b[38;5;21;01mnumpy\u001b[39;00m \u001b[38;5;28;01mas\u001b[39;00m \u001b[38;5;21;01mnp\u001b[39;00m\n\u001b[1;32m      3\u001b[0m \u001b[38;5;28;01mfrom\u001b[39;00m \u001b[38;5;21;01mvispy\u001b[39;00m \u001b[38;5;28;01mimport\u001b[39;00m gloo, app\n",
      "\u001b[0;31mModuleNotFoundError\u001b[0m: No module named 'numba'"
     ]
    }
   ],
   "source": [
    "from numba import njit\n",
    "import numpy as np\n",
    "from vispy import gloo, app\n",
    "from vispy.visuals import TextVisual\n",
    "\n",
    "# Constants\n",
    "num_boids = 100\n",
    "width, height = 800, 600\n",
    "size = 10\n",
    "max_speed = 5\n",
    "\n",
    "# Initialize boids\n",
    "boids = np.random.uniform(0, 1, (num_boids, 2))\n",
    "velocities = np.random.uniform(-1, 1, (num_boids, 2))\n",
    "\n",
    "# Numba-compiled function to update boids positions\n",
    "@njit(parallel=True)\n",
    "def update_boids(boids, velocities):\n",
    "    # Update boids positions\n",
    "    for i in range(num_boids):\n",
    "        boids[i] += velocities[i]\n",
    "        \n",
    "# Create a Vispy canvas\n",
    "canvas = app.Canvas(keys='interactive', size=(width, height), title='Boids Simulation')\n",
    "text = TextVisual('', color='white', pos=(10, 10))\n",
    "text.font_size = 14\n",
    "\n",
    "# Vispy shader program for rendering boids\n",
    "vertex = \"\"\"\n",
    "attribute vec2 position;\n",
    "void main() {\n",
    "    gl_Position = vec4(position, 0.0, 1.0);\n",
    "}\n",
    "\"\"\"\n",
    "\n",
    "fragment = \"\"\"\n",
    "void main() {\n",
    "    gl_FragColor = vec4(1.0, 1.0, 1.0, 1.0);\n",
    "}\n",
    "\"\"\"\n",
    "\n",
    "program = gloo.Program(vertex, fragment)\n",
    "program['position'] = np.zeros((num_boids, 2), dtype=np.float32)\n",
    "\n",
    "@canvas.connect\n",
    "def on_draw(event):\n",
    "    canvas.clear()\n",
    "    update_boids(boids, velocities)\n",
    "    program['position'] = boids * np.array([width, height])\n",
    "    program.draw('points')\n",
    "    text.text = f'Number of boids: {num_boids}\\nMax speed: {max_speed}\\nFPS: {canvas.measure_fps()}'\n",
    "    text.draw(canvas.contexts[0])\n",
    "\n",
    "if __name__ == '__main__':\n",
    "    canvas.show(run=True)\n"
   ]
  },
  {
   "cell_type": "code",
   "execution_count": null,
   "metadata": {},
   "outputs": [],
   "source": []
  },
  {
   "cell_type": "code",
   "execution_count": null,
   "metadata": {},
   "outputs": [],
   "source": []
  },
  {
   "cell_type": "code",
   "execution_count": null,
   "metadata": {},
   "outputs": [],
   "source": []
  }
 ],
 "metadata": {
  "kernelspec": {
   "display_name": "Python 3",
   "language": "python",
   "name": "python3"
  },
  "language_info": {
   "codemirror_mode": {
    "name": "ipython",
    "version": 3
   },
   "file_extension": ".py",
   "mimetype": "text/x-python",
   "name": "python",
   "nbconvert_exporter": "python",
   "pygments_lexer": "ipython3",
   "version": "3.9.6"
  }
 },
 "nbformat": 4,
 "nbformat_minor": 2
}
