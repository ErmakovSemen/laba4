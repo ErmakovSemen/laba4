{
 "cells": [
  {
   "cell_type": "code",
   "execution_count": 11,
   "metadata": {},
   "outputs": [],
   "source": [
    "#Помогло создание виртуального окружения\n",
    "# !pip install numpy numba vispy\n",
    "# !pip install jupyter_rfb"
   ]
  },
  {
   "cell_type": "code",
   "execution_count": 10,
   "metadata": {},
   "outputs": [
    {
     "ename": "RuntimeError",
     "evalue": "Could not import backend \"jupyter_rfb\":\nThe jupyter_rfb backend relies on a the jupyter_rfb library: ``pip install jupyter_rfb``",
     "output_type": "error",
     "traceback": [
      "\u001b[0;31m---------------------------------------------------------------------------\u001b[0m",
      "\u001b[0;31mRuntimeError\u001b[0m                              Traceback (most recent call last)",
      "Cell \u001b[0;32mIn[10], line 25\u001b[0m\n\u001b[1;32m     22\u001b[0m         boids[i] \u001b[38;5;241m+\u001b[39m\u001b[38;5;241m=\u001b[39m velocities[i]\n\u001b[1;32m     24\u001b[0m \u001b[38;5;66;03m# Create a Vispy canvas\u001b[39;00m\n\u001b[0;32m---> 25\u001b[0m canvas \u001b[38;5;241m=\u001b[39m \u001b[43mapp\u001b[49m\u001b[38;5;241;43m.\u001b[39;49m\u001b[43mCanvas\u001b[49m\u001b[43m(\u001b[49m\u001b[43mkeys\u001b[49m\u001b[38;5;241;43m=\u001b[39;49m\u001b[38;5;124;43m'\u001b[39;49m\u001b[38;5;124;43minteractive\u001b[39;49m\u001b[38;5;124;43m'\u001b[39;49m\u001b[43m,\u001b[49m\u001b[43m \u001b[49m\u001b[43msize\u001b[49m\u001b[38;5;241;43m=\u001b[39;49m\u001b[43m(\u001b[49m\u001b[43mwidth\u001b[49m\u001b[43m,\u001b[49m\u001b[43m \u001b[49m\u001b[43mheight\u001b[49m\u001b[43m)\u001b[49m\u001b[43m,\u001b[49m\u001b[43m \u001b[49m\u001b[43mtitle\u001b[49m\u001b[38;5;241;43m=\u001b[39;49m\u001b[38;5;124;43m'\u001b[39;49m\u001b[38;5;124;43mBoids Simulation\u001b[39;49m\u001b[38;5;124;43m'\u001b[39;49m\u001b[43m)\u001b[49m\n\u001b[1;32m     26\u001b[0m text \u001b[38;5;241m=\u001b[39m TextVisual(\u001b[38;5;124m'\u001b[39m\u001b[38;5;124m'\u001b[39m, color\u001b[38;5;241m=\u001b[39m\u001b[38;5;124m'\u001b[39m\u001b[38;5;124mwhite\u001b[39m\u001b[38;5;124m'\u001b[39m, pos\u001b[38;5;241m=\u001b[39m(\u001b[38;5;241m10\u001b[39m, \u001b[38;5;241m10\u001b[39m))\n\u001b[1;32m     27\u001b[0m text\u001b[38;5;241m.\u001b[39mfont_size \u001b[38;5;241m=\u001b[39m \u001b[38;5;241m14\u001b[39m\n",
      "File \u001b[0;32m~/Desktop/HSE/.venv/lib/python3.10/site-packages/vispy/app/canvas.py:173\u001b[0m, in \u001b[0;36mCanvas.__init__\u001b[0;34m(self, title, size, position, show, autoswap, app, create_native, vsync, resizable, decorate, fullscreen, config, shared, keys, parent, dpi, always_on_top, px_scale, backend_kwargs)\u001b[0m\n\u001b[1;32m    171\u001b[0m \u001b[38;5;66;03m# Get app instance\u001b[39;00m\n\u001b[1;32m    172\u001b[0m \u001b[38;5;28;01mif\u001b[39;00m app \u001b[38;5;129;01mis\u001b[39;00m \u001b[38;5;28;01mNone\u001b[39;00m:\n\u001b[0;32m--> 173\u001b[0m     \u001b[38;5;28mself\u001b[39m\u001b[38;5;241m.\u001b[39m_app \u001b[38;5;241m=\u001b[39m \u001b[43muse_app\u001b[49m\u001b[43m(\u001b[49m\u001b[43mcall_reuse\u001b[49m\u001b[38;5;241;43m=\u001b[39;49m\u001b[38;5;28;43;01mFalse\u001b[39;49;00m\u001b[43m)\u001b[49m\n\u001b[1;32m    174\u001b[0m \u001b[38;5;28;01melif\u001b[39;00m \u001b[38;5;28misinstance\u001b[39m(app, Application):\n\u001b[1;32m    175\u001b[0m     \u001b[38;5;28mself\u001b[39m\u001b[38;5;241m.\u001b[39m_app \u001b[38;5;241m=\u001b[39m app\n",
      "File \u001b[0;32m~/Desktop/HSE/.venv/lib/python3.10/site-packages/vispy/app/_default_app.py:47\u001b[0m, in \u001b[0;36muse_app\u001b[0;34m(backend_name, call_reuse)\u001b[0m\n\u001b[1;32m     44\u001b[0m         \u001b[38;5;28;01mreturn\u001b[39;00m default_app  \u001b[38;5;66;03m# Current backend matches backend_name\u001b[39;00m\n\u001b[1;32m     46\u001b[0m \u001b[38;5;66;03m# Create default app\u001b[39;00m\n\u001b[0;32m---> 47\u001b[0m default_app \u001b[38;5;241m=\u001b[39m \u001b[43mApplication\u001b[49m\u001b[43m(\u001b[49m\u001b[43mbackend_name\u001b[49m\u001b[43m)\u001b[49m\n\u001b[1;32m     48\u001b[0m \u001b[38;5;28;01mreturn\u001b[39;00m default_app\n",
      "File \u001b[0;32m~/Desktop/HSE/.venv/lib/python3.10/site-packages/vispy/app/application.py:47\u001b[0m, in \u001b[0;36mApplication.__init__\u001b[0;34m(self, backend_name)\u001b[0m\n\u001b[1;32m     45\u001b[0m \u001b[38;5;28mself\u001b[39m\u001b[38;5;241m.\u001b[39m_backend_module \u001b[38;5;241m=\u001b[39m \u001b[38;5;28;01mNone\u001b[39;00m\n\u001b[1;32m     46\u001b[0m \u001b[38;5;28mself\u001b[39m\u001b[38;5;241m.\u001b[39m_backend \u001b[38;5;241m=\u001b[39m \u001b[38;5;28;01mNone\u001b[39;00m\n\u001b[0;32m---> 47\u001b[0m \u001b[38;5;28;43mself\u001b[39;49m\u001b[38;5;241;43m.\u001b[39;49m\u001b[43m_use\u001b[49m\u001b[43m(\u001b[49m\u001b[43mbackend_name\u001b[49m\u001b[43m)\u001b[49m\n",
      "File \u001b[0;32m~/Desktop/HSE/.venv/lib/python3.10/site-packages/vispy/app/application.py:240\u001b[0m, in \u001b[0;36mApplication._use\u001b[0;34m(self, backend_name)\u001b[0m\n\u001b[1;32m    236\u001b[0m msg \u001b[38;5;241m=\u001b[39m (\u001b[38;5;124m'\u001b[39m\u001b[38;5;124mCould not import backend \u001b[39m\u001b[38;5;124m\"\u001b[39m\u001b[38;5;132;01m%s\u001b[39;00m\u001b[38;5;124m\"\u001b[39m\u001b[38;5;124m:\u001b[39m\u001b[38;5;130;01m\\n\u001b[39;00m\u001b[38;5;132;01m%s\u001b[39;00m\u001b[38;5;124m'\u001b[39m\n\u001b[1;32m    237\u001b[0m        \u001b[38;5;241m%\u001b[39m (name, \u001b[38;5;28mstr\u001b[39m(mod\u001b[38;5;241m.\u001b[39mwhy_not)))\n\u001b[1;32m    238\u001b[0m \u001b[38;5;28;01mif\u001b[39;00m \u001b[38;5;129;01mnot\u001b[39;00m try_others:\n\u001b[1;32m    239\u001b[0m     \u001b[38;5;66;03m# Fail if user wanted to use a specific backend\u001b[39;00m\n\u001b[0;32m--> 240\u001b[0m     \u001b[38;5;28;01mraise\u001b[39;00m \u001b[38;5;167;01mRuntimeError\u001b[39;00m(msg)\n\u001b[1;32m    241\u001b[0m \u001b[38;5;28;01melif\u001b[39;00m key \u001b[38;5;129;01min\u001b[39;00m imported_toolkits:\n\u001b[1;32m    242\u001b[0m     \u001b[38;5;66;03m# Warn if were unable to use an already imported toolkit\u001b[39;00m\n\u001b[1;32m    243\u001b[0m     msg \u001b[38;5;241m=\u001b[39m (\u001b[38;5;124m'\u001b[39m\u001b[38;5;124mAlthough \u001b[39m\u001b[38;5;132;01m%s\u001b[39;00m\u001b[38;5;124m is already imported, the \u001b[39m\u001b[38;5;132;01m%s\u001b[39;00m\u001b[38;5;124m backend \u001b[39m\u001b[38;5;124m'\u001b[39m\n\u001b[1;32m    244\u001b[0m            \u001b[38;5;124m'\u001b[39m\u001b[38;5;124mcould not\u001b[39m\u001b[38;5;130;01m\\n\u001b[39;00m\u001b[38;5;124mbe used (\u001b[39m\u001b[38;5;124m\"\u001b[39m\u001b[38;5;132;01m%s\u001b[39;00m\u001b[38;5;124m\"\u001b[39m\u001b[38;5;124m). \u001b[39m\u001b[38;5;130;01m\\n\u001b[39;00m\u001b[38;5;124mNote that running \u001b[39m\u001b[38;5;124m'\u001b[39m\n\u001b[1;32m    245\u001b[0m            \u001b[38;5;124m'\u001b[39m\u001b[38;5;124mmultiple GUI toolkits simultaneously can cause \u001b[39m\u001b[38;5;124m'\u001b[39m\n\u001b[1;32m    246\u001b[0m            \u001b[38;5;124m'\u001b[39m\u001b[38;5;124mside effects.\u001b[39m\u001b[38;5;124m'\u001b[39m \u001b[38;5;241m%\u001b[39m\n\u001b[1;32m    247\u001b[0m            (native_module_name, name, \u001b[38;5;28mstr\u001b[39m(mod\u001b[38;5;241m.\u001b[39mwhy_not)))\n",
      "\u001b[0;31mRuntimeError\u001b[0m: Could not import backend \"jupyter_rfb\":\nThe jupyter_rfb backend relies on a the jupyter_rfb library: ``pip install jupyter_rfb``"
     ]
    }
   ],
   "source": [
    "import numpy as np\n",
    "from numba import njit\n",
    "\n",
    "from vispy import gloo, app\n",
    "from vispy.visuals import TextVisual\n",
    "\n",
    "# Constants\n",
    "num_boids = 100\n",
    "width, height = 800, 600\n",
    "size = 10\n",
    "max_speed = 5\n",
    "\n",
    "# Initialize boids\n",
    "boids = np.random.uniform(0, 1, (num_boids, 2))\n",
    "velocities = np.random.uniform(-1, 1, (num_boids, 2))\n",
    "\n",
    "# Numba-compiled function to update boids positions\n",
    "@njit(parallel=True)\n",
    "def update_boids(boids, velocities):\n",
    "    # Update boids positions\n",
    "    for i in range(num_boids):\n",
    "        boids[i] += velocities[i]\n",
    "        \n",
    "# Create a Vispy canvas\n",
    "canvas = app.Canvas(keys='interactive', size=(width, height), title='Boids Simulation')\n",
    "text = TextVisual('', color='white', pos=(10, 10))\n",
    "text.font_size = 14\n",
    "\n",
    "# Vispy shader program for rendering boids\n",
    "vertex = \"\"\"\n",
    "attribute vec2 position;\n",
    "void main() {\n",
    "    gl_Position = vec4(position, 0.0, 1.0);\n",
    "}\n",
    "\"\"\"\n",
    "\n",
    "fragment = \"\"\"\n",
    "void main() {\n",
    "    gl_FragColor = vec4(1.0, 1.0, 1.0, 1.0);\n",
    "}\n",
    "\"\"\"\n",
    "\n",
    "program = gloo.Program(vertex, fragment)\n",
    "program['position'] = np.zeros((num_boids, 2), dtype=np.float32)\n",
    "\n",
    "@canvas.connect\n",
    "def on_draw(event):\n",
    "    canvas.clear()\n",
    "    update_boids(boids, velocities)\n",
    "    program['position'] = boids * np.array([width, height])\n",
    "    program.draw('points')\n",
    "    text.text = f'Number of boids: {num_boids}\\nMax speed: {max_speed}\\nFPS: {canvas.measure_fps()}'\n",
    "    text.draw(canvas.contexts[0])\n",
    "\n",
    "if __name__ == '__main__':\n",
    "    canvas.show(run=True)\n"
   ]
  },
  {
   "cell_type": "code",
   "execution_count": null,
   "metadata": {},
   "outputs": [],
   "source": []
  },
  {
   "cell_type": "code",
   "execution_count": null,
   "metadata": {},
   "outputs": [],
   "source": []
  }
 ],
 "metadata": {
  "kernelspec": {
   "display_name": "Python 3",
   "language": "python",
   "name": "python3"
  },
  "language_info": {
   "codemirror_mode": {
    "name": "ipython",
    "version": 3
   },
   "file_extension": ".py",
   "mimetype": "text/x-python",
   "name": "python",
   "nbconvert_exporter": "python",
   "pygments_lexer": "ipython3",
   "version": "3.10.11"
  }
 },
 "nbformat": 4,
 "nbformat_minor": 2
}
